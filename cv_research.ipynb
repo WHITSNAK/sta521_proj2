{
 "cells": [
  {
   "cell_type": "code",
   "execution_count": 1,
   "metadata": {},
   "outputs": [],
   "source": [
    "%load_ext autoreload\n",
    "%autoreload 2\n",
    "\n",
    "import os\n",
    "import sys\n",
    "import pandas as pd\n",
    "import numpy as np\n",
    "import matplotlib.pyplot as plt\n",
    "import seaborn as sns\n",
    "\n",
    "sns.set_style('whitegrid')\n",
    "sys.path.append(os.getcwd())"
   ]
  },
  {
   "cell_type": "code",
   "execution_count": 4,
   "metadata": {},
   "outputs": [],
   "source": [
    "df = pd.read_csv(\"data/imagem3.txt\", delim_whitespace=True, header=None)\n",
    "df.columns = ['y', 'x', 'label', 'ndai', 'sd', 'corr', 'ra_df', 'ra_cf', 'ra_bf', 'ra_af', 'ra_an']\n",
    "df.sort_values(['x', 'y'], inplace=True)"
   ]
  },
  {
   "cell_type": "code",
   "execution_count": 56,
   "metadata": {},
   "outputs": [],
   "source": [
    "from typing import NamedTuple, List, Tuple, Set, Generator\n",
    "from cv_master import Coordinate, Grid2DKernel, Patch, Grid2D\n",
    "\n",
    "\n",
    "class SatelliteImage:\n",
    "    def __init__(self, df: pd.DataFrame, overlaying_grid: Grid2D):\n",
    "        self.df = df\n",
    "        self.grid = overlaying_grid\n",
    "    \n",
    "    def get_data_patch(self, patch: Patch) -> pd.DataFrame:\n",
    "        \"\"\"Map the image data to the corresponding patch coordinates\"\"\"\n",
    "        df = self.df\n",
    "\n",
    "        x_lb, x_ub = patch.x_bound\n",
    "        y_lb, y_ub = patch.y_bound\n",
    "        \n",
    "        x_bound = (df.x >= x_lb) & (df.x <= x_ub)\n",
    "        y_bound = (df.y >= y_lb) & (df.y <= y_ub)\n",
    "\n",
    "        return df[x_bound & y_bound]\n",
    "    \n",
    "    def iter_train_validate(self):\n",
    "        for i, j, patch in self.grid.iter_patches():\n",
    "            validate = patch\n",
    "            neighbors = self.grid.get_neighbors(i, j)\n",
    "            train = self.grid.patch_set.difference(neighbors.union({validate}))\n",
    "\n",
    "            yield train, validate"
   ]
  },
  {
   "cell_type": "code",
   "execution_count": 77,
   "metadata": {},
   "outputs": [],
   "source": [
    "kernel = Grid2DKernel(20, 20)\n",
    "grid = Grid2D(Coordinate(65, 2), Coordinate(369, 383), kernel)\n",
    "image = SatelliteImage(df, grid)"
   ]
  },
  {
   "cell_type": "code",
   "execution_count": 78,
   "metadata": {},
   "outputs": [],
   "source": [
    "gen = image.iter_train_validate()"
   ]
  },
  {
   "cell_type": "code",
   "execution_count": 139,
   "metadata": {},
   "outputs": [],
   "source": [
    "train, val = next(gen)"
   ]
  },
  {
   "cell_type": "code",
   "execution_count": 140,
   "metadata": {},
   "outputs": [
    {
     "data": {
      "image/png": "[encoded data removed]",
      "text/plain": [
       "<Figure size 576x360 with 1 Axes>"
      ]
     },
     "metadata": {},
     "output_type": "display_data"
    }
   ],
   "source": [
    "fig, ax = plt.subplots(figsize=(8, 5))\n",
    "for patch in train:\n",
    "    ax.add_patch(patch.to_matplotlib(color='grey'))\n",
    "\n",
    "ax.add_patch(val.to_matplotlib(color='green'))\n",
    "ax.set_xlim(*grid._patch.x_bound)\n",
    "ax.set_ylim(*grid._patch.y_bound)\n",
    "\n",
    "fig.tight_layout()\n",
    "fig.show()"
   ]
  }
 ],
 "metadata": {
  "kernelspec": {
   "display_name": "Python 3.9.7 ('base')",
   "language": "python",
   "name": "python3"
  },
  "language_info": {
   "codemirror_mode": {
    "name": "ipython",
    "version": 3
   },
   "file_extension": ".py",
   "mimetype": "text/x-python",
   "name": "python",
   "nbconvert_exporter": "python",
   "pygments_lexer": "ipython3",
   "version": "3.8.10"
  },
  "orig_nbformat": 4,
  "vscode": {
   "interpreter": {
    "hash": "8aa86febbd8b68d3c6a1a0d2cefbe9270b8ac80e62773c8b87751ee948ce61ed"
   }
  }
 },
 "nbformat": 4,
 "nbformat_minor": 2
}
