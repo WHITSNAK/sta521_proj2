{
 "cells": [
  {
   "cell_type": "code",
   "execution_count": 1,
   "metadata": {},
   "outputs": [],
   "source": [
    "%load_ext autoreload\n",
    "%autoreload 2\n",
    "\n",
    "import os\n",
    "import sys\n",
    "\n",
    "sys.path.append(os.getcwd())\n",
    "\n",
    "import pandas as pd\n",
    "import numpy as np\n",
    "import matplotlib.pyplot as plt\n",
    "import seaborn as sns\n",
    "from cv_master import Coordinate, Grid2DKernel, Patch, Grid2D, SatelliteImageData\n",
    "\n",
    "sns.set_style('whitegrid')"
   ]
  },
  {
   "cell_type": "code",
   "execution_count": 2,
   "metadata": {},
   "outputs": [],
   "source": [
    "kernel = Grid2DKernel(55, 55)\n",
    "grid = Grid2D(Coordinate(65, 2), Coordinate(369, 383), kernel)\n",
    "image = SatelliteImageData(grid, images=['imagem1.txt', 'imagem2.txt'])"
   ]
  },
  {
   "cell_type": "code",
   "execution_count": 3,
   "metadata": {},
   "outputs": [],
   "source": [
    "gen = image.iter_train_validate_test()"
   ]
  },
  {
   "cell_type": "code",
   "execution_count": 45,
   "metadata": {},
   "outputs": [
    {
     "ename": "StopIteration",
     "evalue": "",
     "output_type": "error",
     "traceback": [
      "\u001b[0;31m---------------------------------------------------------------------------\u001b[0m",
      "\u001b[0;31mStopIteration\u001b[0m                             Traceback (most recent call last)",
      "\u001b[1;32m/home/ztang484/workplace/duke/sta521-fa22/sta521_proj2/cv_research.ipynb Cell 4\u001b[0m in \u001b[0;36m<module>\u001b[0;34m\u001b[0m\n\u001b[0;32m----> <a href='vscode-notebook-cell://wsl%2Bubuntu/home/ztang484/workplace/duke/sta521-fa22/sta521_proj2/cv_research.ipynb#Y125sdnNjb2RlLXJlbW90ZQ%3D%3D?line=0'>1</a>\u001b[0m train, val, test \u001b[39m=\u001b[39m \u001b[39mnext\u001b[39;49m(gen)\n\u001b[1;32m      <a href='vscode-notebook-cell://wsl%2Bubuntu/home/ztang484/workplace/duke/sta521-fa22/sta521_proj2/cv_research.ipynb#Y125sdnNjb2RlLXJlbW90ZQ%3D%3D?line=2'>3</a>\u001b[0m fig, ax \u001b[39m=\u001b[39m plt\u001b[39m.\u001b[39msubplots(figsize\u001b[39m=\u001b[39m(\u001b[39m8\u001b[39m, \u001b[39m5\u001b[39m))\n\u001b[1;32m      <a href='vscode-notebook-cell://wsl%2Bubuntu/home/ztang484/workplace/duke/sta521-fa22/sta521_proj2/cv_research.ipynb#Y125sdnNjb2RlLXJlbW90ZQ%3D%3D?line=3'>4</a>\u001b[0m \u001b[39mfor\u001b[39;00m patch \u001b[39min\u001b[39;00m train:\n",
      "\u001b[0;31mStopIteration\u001b[0m: "
     ]
    }
   ],
   "source": [
    "train, val, test = next(gen)\n",
    "\n",
    "fig, ax = plt.subplots(figsize=(8, 5))\n",
    "for patch in train:\n",
    "    ax.add_patch(patch.to_matplotlib(color='grey'))\n",
    "\n",
    "ax.add_patch(val.to_matplotlib(color='orange'))\n",
    "ax.add_patch(test.to_matplotlib(color='green'))\n",
    "\n",
    "ax.set_xlim(*grid._patch.x_bound)\n",
    "ax.set_ylim(*grid._patch.y_bound)\n",
    "\n",
    "fig.tight_layout()\n",
    "fig.show()"
   ]
  }
 ],
 "metadata": {
  "kernelspec": {
   "display_name": "Python 3.9.7 ('base')",
   "language": "python",
   "name": "python3"
  },
  "language_info": {
   "codemirror_mode": {
    "name": "ipython",
    "version": 3
   },
   "file_extension": ".py",
   "mimetype": "text/x-python",
   "name": "python",
   "nbconvert_exporter": "python",
   "pygments_lexer": "ipython3",
   "version": "3.8.10"
  },
  "orig_nbformat": 4,
  "vscode": {
   "interpreter": {
    "hash": "8aa86febbd8b68d3c6a1a0d2cefbe9270b8ac80e62773c8b87751ee948ce61ed"
   }
  }
 },
 "nbformat": 4,
 "nbformat_minor": 2
}
