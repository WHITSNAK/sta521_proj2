{
 "cells": [
  {
   "cell_type": "code",
   "execution_count": 1,
   "metadata": {},
   "outputs": [],
   "source": [
    "import pandas as pd\n",
    "import numpy as np\n",
    "import matplotlib.pyplot as plt\n",
    "import seaborn as sns\n",
    "\n",
    "sns.set_style('whitegrid')"
   ]
  },
  {
   "cell_type": "code",
   "execution_count": 2,
   "metadata": {},
   "outputs": [],
   "source": [
    "df = pd.read_csv(\"data/imagem3.txt\", delim_whitespace=True, header=None)\n",
    "df.columns = ['y', 'x', 'label', 'ndai', 'sd', 'corr', 'ra_df', 'ra_cf', 'ra_bf', 'ra_af', 'ra_an']"
   ]
  },
  {
   "cell_type": "code",
   "execution_count": 36,
   "metadata": {},
   "outputs": [],
   "source": [
    "from typing import NamedTuple\n",
    "from __future__ import annotations\n",
    "\n",
    "class Coordinate(NamedTuple):\n",
    "    x: int\n",
    "    y: int\n",
    "\n",
    "class Grid2DKernel(NamedTuple):\n",
    "    dx: int\n",
    "    dy: int\n",
    "\n",
    "class Grid2D(NamedTuple):\n",
    "    x0y0: Coordinate\n",
    "    x1y0: Coordinate\n",
    "    x0y1: Coordinate\n",
    "    x1y1: Coordinate\n",
    "\n",
    "    @staticmethod\n",
    "    def get_polygon(start_coord: Coordinate, kernel: Grid2DKernel):\n",
    "        x0, y0 = start_coord\n",
    "        dx, dy = kernel\n",
    "\n",
    "        return Grid2D(\n",
    "            Coordinate(x0, y0),\n",
    "            Coordinate(x0+dx-1, y0),\n",
    "            Coordinate(x0, y0+dy-1),\n",
    "            Coordinate(x0+dx-1, y0+dy-1),\n",
    "        )\n",
    "    \n",
    "    @property\n",
    "    def x_bound(self):\n",
    "        return (self.x0y0.x, self.x1y0.x)\n",
    "    \n",
    "    @property\n",
    "    def y_bound(self):\n",
    "        return (self.x0y0.y, self.x1y1.y)\n",
    "    \n",
    "    def fully_contains(self, grid: Grid2D) -> bool:\n",
    "        \"\"\"Make sure the other grid is fully contained in this grid\"\"\"\n",
    "        (my_x_lb, my_x_ub) = self.x_bound\n",
    "        (other_x_lb, other_x_ub) = grid.x_bound\n",
    "\n",
    "        (my_y_lb, my_y_ub) = self.y_bound\n",
    "        (other_y_lb, other_y_ub) = grid.y_bound\n",
    "\n",
    "        return (\n",
    "            (my_x_lb <= other_x_lb)\n",
    "            & (my_x_ub >= other_x_ub)\n",
    "            & (my_y_lb <= other_y_lb)\n",
    "            & (my_y_ub >= other_y_ub)\n",
    "        )\n",
    "    \n",
    "    def neighbor_region(self, kernel: Grid2DKernel):\n",
    "        \"\"\"Get the neighborhood region of the kernel\"\"\"\n",
    "        x0, y0 = self.x0y0\n",
    "        dx, dy = kernel\n",
    "        return Grid2D(\n",
    "            Coordinate(x0-dx, y0-dy),\n",
    "            Coordinate(x0+2*dx-1, y0-dy),\n",
    "            Coordinate(x0-dx, y0+2*dy-1),\n",
    "            Coordinate(x0+2*dx-1, y0+2*dy-1),\n",
    "        )\n",
    "    \n",
    "    def move_forward(self, kernel: Grid2DKernel):\n",
    "        x0, y0 = self.x0y0\n",
    "        dx, _ = kernel\n",
    "        return Grid2D.get_polygon(Coordinate(x0+dx, y0), kernel)\n",
    "\n",
    "\n",
    "class SatelliteImage:\n",
    "    def __init__(self, df: pd.DataFrame):\n",
    "        self.df = df\n",
    "\n",
    "        min_x, max_x = df.x.min(), df.x.max()\n",
    "        min_y, max_y = df.y.min(), df.y.max()\n",
    "        self.polygon = Grid2D.get_polygon(\n",
    "            start_coord=Coordinate(min_x, min_y),\n",
    "            kernel=Grid2DKernel(max_x-min_x+1, max_y-min_y+1)\n",
    "        )\n",
    "    \n",
    "\n",
    "\n",
    "    def get_image_grid(self, grid: Grid2D):\n",
    "        \"\"\"Returns the image data given the grid polygon coordinates\"\"\"\n",
    "        df = self.df\n",
    "\n",
    "        x_lb, x_ub = grid.x_bound\n",
    "        y_lb, y_ub = grid.y_bound\n",
    "        \n",
    "        x_bound = (df.x >= x_lb) & (df.x <= x_ub)\n",
    "        y_bound = (df.y >= y_lb) & (df.y <= y_ub)\n",
    "\n",
    "        return df[x_bound & y_bound]"
   ]
  },
  {
   "cell_type": "code",
   "execution_count": 37,
   "metadata": {},
   "outputs": [],
   "source": [
    "kernel = Grid2DKernel(10, 10)\n",
    "grid_polygon = Grid2D.get_polygon(Coordinate(70, 5), kernel)\n",
    "image = SatelliteImage(df)\n",
    "data_chunk = image.get_image_grid(grid_polygon)"
   ]
  },
  {
   "cell_type": "code",
   "execution_count": 38,
   "metadata": {},
   "outputs": [
    {
     "data": {
      "text/plain": [
       "<AxesSubplot:xlabel='x', ylabel='y'>"
      ]
     },
     "execution_count": 38,
     "metadata": {},
     "output_type": "execute_result"
    },
    {
     "data": {
      "image/png": "[encoded data removed]",
      "text/plain": [
       "<Figure size 640x480 with 1 Axes>"
      ]
     },
     "metadata": {},
     "output_type": "display_data"
    }
   ],
   "source": [
    "sns.scatterplot(data=pd.DataFrame(grid_polygon), x='x', y='y')\n",
    "sns.scatterplot(data=pd.DataFrame(grid_polygon.neighbor_region(kernel)), x='x', y='y')"
   ]
  }
 ],
 "metadata": {
  "kernelspec": {
   "display_name": "Python 3.9.7 ('base')",
   "language": "python",
   "name": "python3"
  },
  "language_info": {
   "codemirror_mode": {
    "name": "ipython",
    "version": 3
   },
   "file_extension": ".py",
   "mimetype": "text/x-python",
   "name": "python",
   "nbconvert_exporter": "python",
   "pygments_lexer": "ipython3",
   "version": "3.9.7"
  },
  "orig_nbformat": 4,
  "vscode": {
   "interpreter": {
    "hash": "8aa86febbd8b68d3c6a1a0d2cefbe9270b8ac80e62773c8b87751ee948ce61ed"
   }
  }
 },
 "nbformat": 4,
 "nbformat_minor": 2
}
